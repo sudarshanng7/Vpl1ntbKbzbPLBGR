{
 "cells": [
  {
   "cell_type": "markdown",
   "id": "c17bb26e",
   "metadata": {},
   "source": [
    "# Happy Customers Project\n",
    "\n",
    "## Background:\n",
    "We are one of the fastest growing startups in the logistics and delivery domain. We work with several partners and make on-demand delivery to our customers. During the COVID-19 pandemic, we are facing several different challenges and everyday we are trying to address these challenges.\n",
    "\n",
    "We thrive on making our customers happy. As a growing startup, with a global expansion strategy we know that we need to make our customers happy and the only way to do that is to measure how happy each customer is. If we can predict what makes our customers happy or unhappy, we can then take necessary actions.\n",
    "\n",
    "Getting feedback from customers is not easy either, but we do our best to get constant feedback from our customers. This is a crucial function to improve our operations across all levels.\n",
    "\n",
    "We recently did a survey to a select customer cohort. You are presented with a subset of this data. We will be using the remaining data as a private test set.\n",
    "\n",
    "## Data Description:\n",
    "Attributes X1 to X6 indicate the responses for each question and have values from 1 to 5 where the smaller number indicates less and the higher number indicates more towards the answer.\n",
    "\n",
    "* <code>X1</code> - my order was delivered on time <br>\n",
    "* <code>X2</code> - contents of my order was as I expected <br>\n",
    "* <code>X3</code> - I ordered everything I wanted to order <br>\n",
    "* <code>X4</code> - I paid a good price for my order <br>\n",
    "* <code>X5</code> - I am satisfied with my courier <br>\n",
    "* <code>X6</code> - the app makes ordering easy for me <br>\n",
    "\n",
    "<code>Y</code> - target attribute (Y) with values indicating 0 (unhappy) and 1 (happy) customers\n",
    "\n",
    "\n",
    "## Goal:\n",
    "Predict if a customer is happy or not based on the answers they give to questions asked. Additionally, learn which features significantly affect customer happiness using feature selection."
   ]
  },
  {
   "cell_type": "markdown",
   "id": "38291f31",
   "metadata": {},
   "source": [
    "<font size=\"4\"><b>Importing Modules and Data</b></font> "
   ]
  },
  {
   "cell_type": "code",
   "execution_count": 1,
   "id": "c124041f",
   "metadata": {},
   "outputs": [],
   "source": [
    "import pandas as pd\n",
    "import numpy as np\n",
    "\n",
    "# Libraries for data visualization\n",
    "import matplotlib.pyplot as plt\n",
    "import seaborn as sns\n",
    "\n",
    "from sklearn.model_selection import train_test_split\n",
    "\n",
    "# Classification algorithms\n",
    "from sklearn.linear_model import LogisticRegression\n",
    "from sklearn.tree import DecisionTreeClassifier\n",
    "from sklearn.ensemble import RandomForestClassifier\n",
    "from sklearn import svm\n",
    "from sklearn.neighbors import KNeighborsClassifier\n",
    "\n",
    "# Model evaluation metrics\n",
    "from sklearn.metrics import accuracy_score, f1_score, confusion_matrix, classification_report, ConfusionMatrixDisplay\n",
    "\n",
    "# Feature Selection\n",
    "from sklearn.feature_selection import SelectKBest, chi2, RFE"
   ]
  },
  {
   "cell_type": "code",
   "execution_count": 2,
   "id": "d7b33b86",
   "metadata": {},
   "outputs": [
    {
     "name": "stdout",
     "output_type": "stream",
     "text": [
      "(126, 7)\n"
     ]
    },
    {
     "data": {
      "text/html": [
       "<div>\n",
       "<style scoped>\n",
       "    .dataframe tbody tr th:only-of-type {\n",
       "        vertical-align: middle;\n",
       "    }\n",
       "\n",
       "    .dataframe tbody tr th {\n",
       "        vertical-align: top;\n",
       "    }\n",
       "\n",
       "    .dataframe thead th {\n",
       "        text-align: right;\n",
       "    }\n",
       "</style>\n",
       "<table border=\"1\" class=\"dataframe\">\n",
       "  <thead>\n",
       "    <tr style=\"text-align: right;\">\n",
       "      <th></th>\n",
       "      <th>Y</th>\n",
       "      <th>X1</th>\n",
       "      <th>X2</th>\n",
       "      <th>X3</th>\n",
       "      <th>X4</th>\n",
       "      <th>X5</th>\n",
       "      <th>X6</th>\n",
       "    </tr>\n",
       "  </thead>\n",
       "  <tbody>\n",
       "    <tr>\n",
       "      <th>0</th>\n",
       "      <td>0</td>\n",
       "      <td>3</td>\n",
       "      <td>3</td>\n",
       "      <td>3</td>\n",
       "      <td>4</td>\n",
       "      <td>2</td>\n",
       "      <td>4</td>\n",
       "    </tr>\n",
       "    <tr>\n",
       "      <th>1</th>\n",
       "      <td>0</td>\n",
       "      <td>3</td>\n",
       "      <td>2</td>\n",
       "      <td>3</td>\n",
       "      <td>5</td>\n",
       "      <td>4</td>\n",
       "      <td>3</td>\n",
       "    </tr>\n",
       "    <tr>\n",
       "      <th>2</th>\n",
       "      <td>1</td>\n",
       "      <td>5</td>\n",
       "      <td>3</td>\n",
       "      <td>3</td>\n",
       "      <td>3</td>\n",
       "      <td>3</td>\n",
       "      <td>5</td>\n",
       "    </tr>\n",
       "    <tr>\n",
       "      <th>3</th>\n",
       "      <td>0</td>\n",
       "      <td>5</td>\n",
       "      <td>4</td>\n",
       "      <td>3</td>\n",
       "      <td>3</td>\n",
       "      <td>3</td>\n",
       "      <td>5</td>\n",
       "    </tr>\n",
       "    <tr>\n",
       "      <th>4</th>\n",
       "      <td>0</td>\n",
       "      <td>5</td>\n",
       "      <td>4</td>\n",
       "      <td>3</td>\n",
       "      <td>3</td>\n",
       "      <td>3</td>\n",
       "      <td>5</td>\n",
       "    </tr>\n",
       "  </tbody>\n",
       "</table>\n",
       "</div>"
      ],
      "text/plain": [
       "   Y  X1  X2  X3  X4  X5  X6\n",
       "0  0   3   3   3   4   2   4\n",
       "1  0   3   2   3   5   4   3\n",
       "2  1   5   3   3   3   3   5\n",
       "3  0   5   4   3   3   3   5\n",
       "4  0   5   4   3   3   3   5"
      ]
     },
     "execution_count": 2,
     "metadata": {},
     "output_type": "execute_result"
    }
   ],
   "source": [
    "feature_dict = {'X1': \"The order was delivered on time\" ,'X2': \"Contents of the order were as I expected\", \n",
    "                'X3': \"Ordered everything they wanted to order\", 'X4': \"Good price was paid for the order\", \n",
    "                'X5': \"Satisfied with the order\", 'X6': \"The app made ordering easy\"}\n",
    "\n",
    "df = pd.read_csv(\"dataset.csv\", index_col=False)\n",
    "\n",
    "print(np.shape(df))\n",
    "df.head()"
   ]
  },
  {
   "cell_type": "code",
   "execution_count": 3,
   "id": "59c5b150",
   "metadata": {},
   "outputs": [
    {
     "name": "stdout",
     "output_type": "stream",
     "text": [
      "<class 'pandas.core.frame.DataFrame'>\n",
      "RangeIndex: 126 entries, 0 to 125\n",
      "Data columns (total 7 columns):\n",
      " #   Column  Non-Null Count  Dtype\n",
      "---  ------  --------------  -----\n",
      " 0   Y       126 non-null    int64\n",
      " 1   X1      126 non-null    int64\n",
      " 2   X2      126 non-null    int64\n",
      " 3   X3      126 non-null    int64\n",
      " 4   X4      126 non-null    int64\n",
      " 5   X5      126 non-null    int64\n",
      " 6   X6      126 non-null    int64\n",
      "dtypes: int64(7)\n",
      "memory usage: 7.0 KB\n"
     ]
    }
   ],
   "source": [
    "df.info()"
   ]
  },
  {
   "cell_type": "markdown",
   "id": "431e908c",
   "metadata": {},
   "source": [
    "The dataset contains 126 examples with no null values. All the features are integer datatype"
   ]
  },
  {
   "cell_type": "code",
   "execution_count": 4,
   "id": "10e8ca35",
   "metadata": {},
   "outputs": [
    {
     "data": {
      "text/html": [
       "<div>\n",
       "<style scoped>\n",
       "    .dataframe tbody tr th:only-of-type {\n",
       "        vertical-align: middle;\n",
       "    }\n",
       "\n",
       "    .dataframe tbody tr th {\n",
       "        vertical-align: top;\n",
       "    }\n",
       "\n",
       "    .dataframe thead th {\n",
       "        text-align: right;\n",
       "    }\n",
       "</style>\n",
       "<table border=\"1\" class=\"dataframe\">\n",
       "  <thead>\n",
       "    <tr style=\"text-align: right;\">\n",
       "      <th></th>\n",
       "      <th>count</th>\n",
       "      <th>mean</th>\n",
       "      <th>std</th>\n",
       "      <th>min</th>\n",
       "      <th>25%</th>\n",
       "      <th>50%</th>\n",
       "      <th>75%</th>\n",
       "      <th>max</th>\n",
       "    </tr>\n",
       "  </thead>\n",
       "  <tbody>\n",
       "    <tr>\n",
       "      <th>Y</th>\n",
       "      <td>126.0</td>\n",
       "      <td>0.547619</td>\n",
       "      <td>0.499714</td>\n",
       "      <td>0.0</td>\n",
       "      <td>0.0</td>\n",
       "      <td>1.0</td>\n",
       "      <td>1.0</td>\n",
       "      <td>1.0</td>\n",
       "    </tr>\n",
       "    <tr>\n",
       "      <th>X1</th>\n",
       "      <td>126.0</td>\n",
       "      <td>4.333333</td>\n",
       "      <td>0.800000</td>\n",
       "      <td>1.0</td>\n",
       "      <td>4.0</td>\n",
       "      <td>5.0</td>\n",
       "      <td>5.0</td>\n",
       "      <td>5.0</td>\n",
       "    </tr>\n",
       "    <tr>\n",
       "      <th>X2</th>\n",
       "      <td>126.0</td>\n",
       "      <td>2.531746</td>\n",
       "      <td>1.114892</td>\n",
       "      <td>1.0</td>\n",
       "      <td>2.0</td>\n",
       "      <td>3.0</td>\n",
       "      <td>3.0</td>\n",
       "      <td>5.0</td>\n",
       "    </tr>\n",
       "    <tr>\n",
       "      <th>X3</th>\n",
       "      <td>126.0</td>\n",
       "      <td>3.309524</td>\n",
       "      <td>1.023440</td>\n",
       "      <td>1.0</td>\n",
       "      <td>3.0</td>\n",
       "      <td>3.0</td>\n",
       "      <td>4.0</td>\n",
       "      <td>5.0</td>\n",
       "    </tr>\n",
       "    <tr>\n",
       "      <th>X4</th>\n",
       "      <td>126.0</td>\n",
       "      <td>3.746032</td>\n",
       "      <td>0.875776</td>\n",
       "      <td>1.0</td>\n",
       "      <td>3.0</td>\n",
       "      <td>4.0</td>\n",
       "      <td>4.0</td>\n",
       "      <td>5.0</td>\n",
       "    </tr>\n",
       "    <tr>\n",
       "      <th>X5</th>\n",
       "      <td>126.0</td>\n",
       "      <td>3.650794</td>\n",
       "      <td>1.147641</td>\n",
       "      <td>1.0</td>\n",
       "      <td>3.0</td>\n",
       "      <td>4.0</td>\n",
       "      <td>4.0</td>\n",
       "      <td>5.0</td>\n",
       "    </tr>\n",
       "    <tr>\n",
       "      <th>X6</th>\n",
       "      <td>126.0</td>\n",
       "      <td>4.253968</td>\n",
       "      <td>0.809311</td>\n",
       "      <td>1.0</td>\n",
       "      <td>4.0</td>\n",
       "      <td>4.0</td>\n",
       "      <td>5.0</td>\n",
       "      <td>5.0</td>\n",
       "    </tr>\n",
       "  </tbody>\n",
       "</table>\n",
       "</div>"
      ],
      "text/plain": [
       "    count      mean       std  min  25%  50%  75%  max\n",
       "Y   126.0  0.547619  0.499714  0.0  0.0  1.0  1.0  1.0\n",
       "X1  126.0  4.333333  0.800000  1.0  4.0  5.0  5.0  5.0\n",
       "X2  126.0  2.531746  1.114892  1.0  2.0  3.0  3.0  5.0\n",
       "X3  126.0  3.309524  1.023440  1.0  3.0  3.0  4.0  5.0\n",
       "X4  126.0  3.746032  0.875776  1.0  3.0  4.0  4.0  5.0\n",
       "X5  126.0  3.650794  1.147641  1.0  3.0  4.0  4.0  5.0\n",
       "X6  126.0  4.253968  0.809311  1.0  4.0  4.0  5.0  5.0"
      ]
     },
     "execution_count": 4,
     "metadata": {},
     "output_type": "execute_result"
    }
   ],
   "source": [
    "df.describe().T"
   ]
  },
  {
   "cell_type": "markdown",
   "id": "d988d2d2",
   "metadata": {},
   "source": [
    "<font size=\"4\"><b>Data Visualization</b></font> "
   ]
  },
  {
   "cell_type": "code",
   "execution_count": 5,
   "id": "2489dd9a",
   "metadata": {},
   "outputs": [
    {
     "data": {
      "text/plain": [
       "<AxesSubplot:>"
      ]
     },
     "execution_count": 5,
     "metadata": {},
     "output_type": "execute_result"
    },
    {
     "data": {
      "image/png": "[encoded data removed]",
      "text/plain": [
       "<Figure size 720x360 with 2 Axes>"
      ]
     },
     "metadata": {
      "needs_background": "light"
     },
     "output_type": "display_data"
    }
   ],
   "source": [
    "# Creating a correlation matrix to check if there are highly correlated features\n",
    "fig, ax = plt.subplots(figsize=(10, 5))\n",
    "correlation_matrix = df.corr().abs()\n",
    "sns.heatmap(correlation_matrix, annot=True, cmap=\"Blues\")"
   ]
  },
  {
   "cell_type": "markdown",
   "id": "1519a19c",
   "metadata": {},
   "source": [
    "From the correlation matrix above, we see that there are no highly correlated features in the dataset. X1 (The order was delivered on time) is mildly correlated with X5 (Satisfied with the order)  and X6 (The app made ordering easy). However, the value is not large enough to drop the columns and we cannot use one of these columns to predict another column in the dataset."
   ]
  },
  {
   "cell_type": "code",
   "execution_count": 6,
   "id": "b6f342a2",
   "metadata": {},
   "outputs": [
    {
     "data": {
      "text/plain": [
       "<seaborn.axisgrid.PairGrid at 0x1308eef13a0>"
      ]
     },
     "execution_count": 6,
     "metadata": {},
     "output_type": "execute_result"
    },
    {
     "data": {
      "image/png": "[encoded data removed]",
      "text/plain": [
       "<Figure size 1260x1260 with 56 Axes>"
      ]
     },
     "metadata": {
      "needs_background": "light"
     },
     "output_type": "display_data"
    }
   ],
   "source": [
    "sns.pairplot(df)"
   ]
  },
  {
   "cell_type": "markdown",
   "id": "6b2b9e28",
   "metadata": {},
   "source": [
    "The pairplot shows the data distribution of the dataset."
   ]
  },
  {
   "cell_type": "markdown",
   "id": "df062199",
   "metadata": {},
   "source": [
    "<font size=\"4\"><b>Data Preparation</b></font> \n",
    "\n",
    "The data is split into 70% training and 30% testing to ensure the model does not overfit."
   ]
  },
  {
   "cell_type": "code",
   "execution_count": 7,
   "id": "f8d51ec1",
   "metadata": {},
   "outputs": [
    {
     "name": "stdout",
     "output_type": "stream",
     "text": [
      "Size of the training dataset:  (88, 6)\n",
      "Size of the test dataset:  (38, 6)\n",
      "Total training dataset labels:  (88,)\n",
      "Total test dataset labels:  (38,)\n",
      "\n",
      "\n",
      "The data contains 57 examples belonging to class 0 (unhappy) and 69 examples belonging to class 1 (happy).\n",
      "Trainig data contains 37 examples belonging to class 0 (unhappy) and 51 examples belonging to class 1 (happy).\n",
      "Testing data contains 20 examples belonging to class 0 (unhappy) and 18 examples belonging to class 1 (happy).\n"
     ]
    }
   ],
   "source": [
    "target = df['Y']\n",
    "data = df.drop(['Y'], axis = 1)\n",
    "\n",
    "# Split the data into traing and test datasets\n",
    "X_train, X_test, y_train, y_test = train_test_split(data, target, test_size=0.3, random_state=42)\n",
    "print(\"Size of the training dataset: \", X_train.shape)\n",
    "print(\"Size of the test dataset: \", X_test.shape)\n",
    "print(\"Total training dataset labels: \", y_train.shape)\n",
    "print(\"Total test dataset labels: \", y_test.shape)\n",
    "print(\"\\n\")\n",
    "\n",
    "print(\"The data contains {} examples belonging to class 0 (unhappy) and {} examples belonging to class 1 (happy).\"\n",
    "      .format(np.bincount(target)[0], np.bincount(target)[1]))\n",
    "print(\"Trainig data contains {} examples belonging to class 0 (unhappy) and {} examples belonging to class 1 (happy).\"\n",
    "      .format(np.bincount(y_train)[0], np.bincount(y_train)[1]))\n",
    "print(\"Testing data contains {} examples belonging to class 0 (unhappy) and {} examples belonging to class 1 (happy).\"\n",
    "      .format(np.bincount(y_test)[0], np.bincount(y_test)[1]))"
   ]
  },
  {
   "cell_type": "markdown",
   "id": "2686986f",
   "metadata": {},
   "source": [
    "The training data is marginally imbalanced as it contains more examples belonging to class 1. This is representative of the original data. Test data contains roughly the same number of examples belonging to both the classes. "
   ]
  },
  {
   "cell_type": "code",
   "execution_count": 8,
   "id": "c27cc6a6",
   "metadata": {},
   "outputs": [],
   "source": [
    "# Helper function to provide evaluation results\n",
    "def eval_results(actual, predictions, model):\n",
    "    # F1 Score\n",
    "    print(\"F1 Score: \", f1_score(actual, predictions))\n",
    "    \n",
    "    # Accuracy\n",
    "    print(\"Accuracy of the model on test data : \", accuracy_score(actual, predictions))\n",
    "    print(np.bincount(predictions))\n",
    "    \n",
    "    # Visualize the evaluation report\n",
    "    print(classification_report(actual, predictions))\n",
    "    \n",
    "    # Plot the confusion matrix\n",
    "    cm = confusion_matrix(actual, predictions, labels=model.classes_)\n",
    "    disp = ConfusionMatrixDisplay(confusion_matrix=cm, display_labels=model.classes_)\n",
    "    disp.plot()\n",
    "    plt.show()\n",
    "    "
   ]
  },
  {
   "cell_type": "markdown",
   "id": "05299b91",
   "metadata": {},
   "source": [
    "<font size=\"4\"><b>Training Different Models</b></font>\n",
    "\n",
    "<font size=\"4\"> 1. Decision Trees</font> "
   ]
  },
  {
   "cell_type": "code",
   "execution_count": 9,
   "id": "6a40730e",
   "metadata": {},
   "outputs": [
    {
     "name": "stdout",
     "output_type": "stream",
     "text": [
      "F1 Score:  0.5\n",
      "Accuracy of the model on test data :  0.47368421052631576\n",
      "[16 22]\n",
      "              precision    recall  f1-score   support\n",
      "\n",
      "           0       0.50      0.40      0.44        20\n",
      "           1       0.45      0.56      0.50        18\n",
      "\n",
      "    accuracy                           0.47        38\n",
      "   macro avg       0.48      0.48      0.47        38\n",
      "weighted avg       0.48      0.47      0.47        38\n",
      "\n"
     ]
    },
    {
     "data": {
      "image/png": "[encoded data removed]",
      "text/plain": [
       "<Figure size 432x288 with 2 Axes>"
      ]
     },
     "metadata": {
      "needs_background": "light"
     },
     "output_type": "display_data"
    }
   ],
   "source": [
    "# Decision Trees: They are sensitive to data\n",
    "dec_tree = DecisionTreeClassifier(random_state=42)\n",
    "dec_tree.fit(X_train, y_train)\n",
    "\n",
    "y_pred_dec = dec_tree.predict(X_test)\n",
    "\n",
    "eval_results(y_test, y_pred_dec, dec_tree)"
   ]
  },
  {
   "cell_type": "markdown",
   "id": "5f9b8845",
   "metadata": {},
   "source": [
    "<font size=\"4\">Decision Tree Hyperparameter Tuning</font> "
   ]
  },
  {
   "cell_type": "code",
   "execution_count": 10,
   "id": "bdc4d5b8",
   "metadata": {},
   "outputs": [
    {
     "name": "stdout",
     "output_type": "stream",
     "text": [
      "The optimum hyperparameters for the decision tree model is:  {'criterion': 'gini', 'splitter': 'random', 'max_depth': 4}\n"
     ]
    }
   ],
   "source": [
    "# Decision Trees Hyperparameters\n",
    "criterion = ['gini', 'entropy']\n",
    "splitter = ['best', 'random']\n",
    "\n",
    "acc_score_dec = 0\n",
    "hyper_parameters_dec = {'criterion': \"\", 'splitter': \"\", 'max_depth': \"\"}\n",
    "\n",
    "# Test different models with different combinations of hyperparameters and select the hyperparameters with\n",
    "# maximum accuracy\n",
    "for c in criterion:\n",
    "    for s in splitter:\n",
    "        for d in range(3, 10):\n",
    "            dec_tree = DecisionTreeClassifier(criterion=c, splitter=s, max_depth=d, random_state=42)\n",
    "            dec_tree.fit(X_train, y_train)\n",
    "\n",
    "            y_pred_dec = dec_tree.predict(X_test)\n",
    "\n",
    "            if accuracy_score(y_test, y_pred_dec) > acc_score_dec:\n",
    "                acc_score_dec = accuracy_score(y_test, y_pred_dec)\n",
    "                hyper_parameters_dec.update({'criterion': c, 'splitter': s, 'max_depth': d})\n",
    "\n",
    "print(\"The optimum hyperparameters for the decision tree model is: \", hyper_parameters_dec)\n"
   ]
  },
  {
   "cell_type": "code",
   "execution_count": 11,
   "id": "5465e0d0",
   "metadata": {},
   "outputs": [
    {
     "name": "stdout",
     "output_type": "stream",
     "text": [
      "F1 Score:  0.7083333333333334\n",
      "Accuracy of the model on test data :  0.631578947368421\n",
      "[ 8 30]\n",
      "              precision    recall  f1-score   support\n",
      "\n",
      "           0       0.88      0.35      0.50        20\n",
      "           1       0.57      0.94      0.71        18\n",
      "\n",
      "    accuracy                           0.63        38\n",
      "   macro avg       0.72      0.65      0.60        38\n",
      "weighted avg       0.73      0.63      0.60        38\n",
      "\n"
     ]
    },
    {
     "data": {
      "image/png": "[encoded data removed]",
      "text/plain": [
       "<Figure size 432x288 with 2 Axes>"
      ]
     },
     "metadata": {
      "needs_background": "light"
     },
     "output_type": "display_data"
    }
   ],
   "source": [
    "# Decision Tree model with optimum hyperparameters\n",
    "dec_tree = DecisionTreeClassifier(criterion='gini', splitter='random', max_depth=4, random_state=42)\n",
    "dec_tree.fit(X_train, y_train)\n",
    "\n",
    "y_pred_dec = dec_tree.predict(X_test)\n",
    "\n",
    "eval_results(y_test, y_pred_dec, dec_tree)"
   ]
  },
  {
   "cell_type": "markdown",
   "id": "63dfc888",
   "metadata": {},
   "source": [
    "The **decision tree model** has a **accuracy** of **63%** on test data. However, the final predictons contains large number of false positives (For a large number of datapoints belonging to class 0, the model predicts that they belong to class 1) indicating the model's bias towards class 1."
   ]
  },
  {
   "cell_type": "markdown",
   "id": "5401b12e",
   "metadata": {},
   "source": [
    "<font size=\"4\"> 2. Random Forest</font> "
   ]
  },
  {
   "cell_type": "code",
   "execution_count": 12,
   "id": "21a0db8f",
   "metadata": {},
   "outputs": [
    {
     "name": "stdout",
     "output_type": "stream",
     "text": [
      "F1 Score:  0.717948717948718\n",
      "Accuracy of the model on test data :  0.7105263157894737\n",
      "[17 21]\n",
      "              precision    recall  f1-score   support\n",
      "\n",
      "           0       0.76      0.65      0.70        20\n",
      "           1       0.67      0.78      0.72        18\n",
      "\n",
      "    accuracy                           0.71        38\n",
      "   macro avg       0.72      0.71      0.71        38\n",
      "weighted avg       0.72      0.71      0.71        38\n",
      "\n"
     ]
    },
    {
     "data": {
      "image/png": "[encoded data removed]",
      "text/plain": [
       "<Figure size 432x288 with 2 Axes>"
      ]
     },
     "metadata": {
      "needs_background": "light"
     },
     "output_type": "display_data"
    },
    {
     "data": {
      "text/plain": [
       "'\\n# Random Forest Hyperparameters\\ncriterion = [\\'gini\\', \\'entropy\\']\\nmax_features = [\\'log2\\', \\'sqrt\\']\\n\\nacc_score_rfc = 0\\nhyper_parameters_rfc = {\\'criterion\\': \"\", \\'max_features\\': \"\", \\'max_depth\\': 0, \\'n_estimators\\':0}\\n\\n# Test different models with different combinations of hyperparameters and record the corresponding hyperparameters with\\n# maximum accuracy\\nfor c in criterion:\\n    for m in max_features:\\n        for d in range(1, 20):\\n            for n in range(1, 20):\\n                rfc = RandomForestClassifier(criterion=c, max_features=m, max_depth=d, n_estimators=n, random_state=42)\\n                rfc = rfc.fit(X_train, y_train)\\n\\n                y_predict_rfc = rfc.predict(X_test)\\n\\n                if accuracy_score(y_test, y_predict_rfc) > acc_score_rfc:\\n                    acc_score_dec = accuracy_score(y_test, y_predict_rfc)\\n                    hyper_parameters_rfc.update({\\'criterion\\': c, \\'max_features\\': m, \\'max_depth\\': d,\\n                                                \\'n_estimators\\': n})\\n\\nprint(\"The optimum hyperparameters for the random forest model is: \", hyper_parameters_rfc)\\n\\nrfc = RandomForestClassifier(criterion=\\'gini\\', max_features=\\'sqrt\\', max_depth=6, n_estimators=300, random_state=42)\\nrfc.fit(X_train, y_train)\\n\\ny_predict_rfc = rfc.predict(X_test)\\n\\neval_results(y_test, y_predict_rfc, rfc)\\n'"
      ]
     },
     "execution_count": 12,
     "metadata": {},
     "output_type": "execute_result"
    }
   ],
   "source": [
    "rfc = RandomForestClassifier(n_estimators=6, random_state=42)\n",
    "rfc.fit(X_train, y_train)\n",
    "\n",
    "y_predict_rfc = rfc.predict(X_test)\n",
    "\n",
    "eval_results(y_test, y_predict_rfc, rfc)\n",
    "\n",
    "\"\"\"\n",
    "# Random Forest Hyperparameters\n",
    "criterion = ['gini', 'entropy']\n",
    "max_features = ['log2', 'sqrt']\n",
    "\n",
    "acc_score_rfc = 0\n",
    "hyper_parameters_rfc = {'criterion': \"\", 'max_features': \"\", 'max_depth': 0, 'n_estimators':0}\n",
    "\n",
    "# Test different models with different combinations of hyperparameters and record the corresponding hyperparameters with\n",
    "# maximum accuracy\n",
    "for c in criterion:\n",
    "    for m in max_features:\n",
    "        for d in range(1, 20):\n",
    "            for n in range(1, 20):\n",
    "                rfc = RandomForestClassifier(criterion=c, max_features=m, max_depth=d, n_estimators=n, random_state=42)\n",
    "                rfc = rfc.fit(X_train, y_train)\n",
    "\n",
    "                y_predict_rfc = rfc.predict(X_test)\n",
    "\n",
    "                if accuracy_score(y_test, y_predict_rfc) > acc_score_rfc:\n",
    "                    acc_score_dec = accuracy_score(y_test, y_predict_rfc)\n",
    "                    hyper_parameters_rfc.update({'criterion': c, 'max_features': m, 'max_depth': d,\n",
    "                                                'n_estimators': n})\n",
    "\n",
    "print(\"The optimum hyperparameters for the random forest model is: \", hyper_parameters_rfc)\n",
    "\n",
    "rfc = RandomForestClassifier(criterion='gini', max_features='sqrt', max_depth=6, n_estimators=300, random_state=42)\n",
    "rfc.fit(X_train, y_train)\n",
    "\n",
    "y_predict_rfc = rfc.predict(X_test)\n",
    "\n",
    "eval_results(y_test, y_predict_rfc, rfc)\n",
    "\"\"\"\n"
   ]
  },
  {
   "cell_type": "markdown",
   "id": "197966d1",
   "metadata": {},
   "source": [
    "The **accuracy** of the **Random Forest** model is **71%**. The maximum accuracy is achieved with default hyperparameters, hence there is no hyperparameters tuning. This model still makes some misclassifications, but the model is much better in prediciting examples belonging to both classes.  "
   ]
  },
  {
   "cell_type": "markdown",
   "id": "53de6f8a",
   "metadata": {},
   "source": [
    "<font size=\"4\"> 3. Support Vector Machines (SVM)</font> "
   ]
  },
  {
   "cell_type": "code",
   "execution_count": 13,
   "id": "84d14731",
   "metadata": {},
   "outputs": [
    {
     "name": "stdout",
     "output_type": "stream",
     "text": [
      "F1 Score:  0.5957446808510638\n",
      "Accuracy of the model on test data :  0.5\n",
      "[ 9 29]\n",
      "              precision    recall  f1-score   support\n",
      "\n",
      "           0       0.56      0.25      0.34        20\n",
      "           1       0.48      0.78      0.60        18\n",
      "\n",
      "    accuracy                           0.50        38\n",
      "   macro avg       0.52      0.51      0.47        38\n",
      "weighted avg       0.52      0.50      0.46        38\n",
      "\n"
     ]
    },
    {
     "data": {
      "image/png": "[encoded data removed]",
      "text/plain": [
       "<Figure size 432x288 with 2 Axes>"
      ]
     },
     "metadata": {
      "needs_background": "light"
     },
     "output_type": "display_data"
    }
   ],
   "source": [
    "svm_model = svm.SVC(random_state=42)\n",
    "svm_model.fit(X_train, y_train)\n",
    "\n",
    "y_predict_svm = svm_model.predict(X_test)\n",
    "\n",
    "eval_results(y_test, y_predict_svm, svm_model)"
   ]
  },
  {
   "cell_type": "markdown",
   "id": "0e3cd590",
   "metadata": {},
   "source": [
    "<font size=\"4\">SVM Hyperparameter Tuning</font> "
   ]
  },
  {
   "cell_type": "code",
   "execution_count": 14,
   "id": "77912353",
   "metadata": {},
   "outputs": [
    {
     "name": "stdout",
     "output_type": "stream",
     "text": [
      "The optimum hyperparameters for the SVM model is:  {'kernel': 'poly', 'degree': 3, 'gamma': 'scale'}\n"
     ]
    }
   ],
   "source": [
    "# SVM Hyperparameters\n",
    "kernel = ['linear', 'poly', 'rbf', 'sigmoid']\n",
    "degree = [1, 2, 3, 4]\n",
    "gamma = ['scale', 'auto']\n",
    "\n",
    "acc_score_svm = 0\n",
    "hyper_parameters_svm = {'kernel': \"\", 'degree': \"\", 'gamma': \"\"}\n",
    "\n",
    "# Test different models with different combinations of hyperparameters and select the hyperparameters with\n",
    "# maximum accuracy\n",
    "for k in kernel:\n",
    "    for d in degree:\n",
    "        for g in gamma:\n",
    "            svm_model = svm.SVC(kernel=k, degree=d, gamma=g, random_state=42)\n",
    "            svm_model.fit(X_train, y_train)\n",
    "\n",
    "            y_predict_svm = svm_model.predict(X_test)\n",
    "\n",
    "            if accuracy_score(y_test, y_predict_svm) > acc_score_svm:\n",
    "                acc_score_svm = accuracy_score(y_test, y_predict_svm)\n",
    "                hyper_parameters_svm.update({'kernel': k, 'degree': d, 'gamma': g})\n",
    "\n",
    "print(\"The optimum hyperparameters for the SVM model is: \", hyper_parameters_svm)"
   ]
  },
  {
   "cell_type": "code",
   "execution_count": 15,
   "id": "b0a7bdde",
   "metadata": {},
   "outputs": [
    {
     "name": "stdout",
     "output_type": "stream",
     "text": [
      "F1 Score:  0.6666666666666666\n",
      "Accuracy of the model on test data :  0.6842105263157895\n",
      "[20 18]\n",
      "              precision    recall  f1-score   support\n",
      "\n",
      "           0       0.70      0.70      0.70        20\n",
      "           1       0.67      0.67      0.67        18\n",
      "\n",
      "    accuracy                           0.68        38\n",
      "   macro avg       0.68      0.68      0.68        38\n",
      "weighted avg       0.68      0.68      0.68        38\n",
      "\n"
     ]
    },
    {
     "data": {
      "image/png": "[encoded data removed]",
      "text/plain": [
       "<Figure size 432x288 with 2 Axes>"
      ]
     },
     "metadata": {
      "needs_background": "light"
     },
     "output_type": "display_data"
    }
   ],
   "source": [
    "svm_model = svm.SVC(kernel='poly', degree=3, gamma='scale', random_state=42)\n",
    "svm_model.fit(X_train, y_train)\n",
    "\n",
    "y_predict_svm = svm_model.predict(X_test)\n",
    "\n",
    "eval_results(y_test, y_predict_svm, svm_model)"
   ]
  },
  {
   "cell_type": "markdown",
   "id": "bd886ae0",
   "metadata": {},
   "source": [
    "The **accuracy** of the **SVM** model is **68%**. This model still makes some misclassifications, but the predictions are more balanced. The model is much better at prediciting examples belonging to both classes."
   ]
  },
  {
   "cell_type": "markdown",
   "id": "2f265c56",
   "metadata": {},
   "source": [
    "<font size=\"4\"> 4. K Nearest Neighbours (KNN)</font>"
   ]
  },
  {
   "cell_type": "code",
   "execution_count": 16,
   "id": "ace53a24",
   "metadata": {},
   "outputs": [
    {
     "name": "stdout",
     "output_type": "stream",
     "text": [
      "{'k-neighbours': 20, 'accuracy': 0.5789473684210527}\n",
      "F1 Score:  0.6799999999999999\n",
      "Accuracy of the model on test data :  0.5789473684210527\n",
      "[ 6 32]\n",
      "              precision    recall  f1-score   support\n",
      "\n",
      "           0       0.83      0.25      0.38        20\n",
      "           1       0.53      0.94      0.68        18\n",
      "\n",
      "    accuracy                           0.58        38\n",
      "   macro avg       0.68      0.60      0.53        38\n",
      "weighted avg       0.69      0.58      0.52        38\n",
      "\n"
     ]
    },
    {
     "data": {
      "image/png": "[encoded data removed]",
      "text/plain": [
       "<Figure size 432x288 with 2 Axes>"
      ]
     },
     "metadata": {
      "needs_background": "light"
     },
     "output_type": "display_data"
    }
   ],
   "source": [
    "\n",
    "temp_result = {'k-neighbours': 0, 'accuracy': 0}\n",
    "\n",
    "for k in range(1, 50):\n",
    "    knn_model = KNeighborsClassifier(n_neighbors=k)\n",
    "    knn_model.fit(X_train, y_train)\n",
    "    \n",
    "    y_predict_knn = knn_model.predict(X_test)\n",
    "    \n",
    "    if accuracy_score(y_test, y_predict_knn) > temp_result['accuracy']:\n",
    "        temp_result.update({'k-neighbours': k, 'accuracy': accuracy_score(y_test, y_predict_knn)})\n",
    "    \n",
    "\n",
    "print(temp_result)\n",
    "\n",
    "\n",
    "# Recreate the KNN model with n_neighbors = 20 \n",
    "knn_model = KNeighborsClassifier(n_neighbors=20)\n",
    "knn_model.fit(X_train, y_train)\n",
    "\n",
    "y_predict_knn = knn_model.predict(X_test)\n",
    "eval_results(y_test, y_predict_knn, knn_model)"
   ]
  },
  {
   "cell_type": "markdown",
   "id": "be4bd5d0",
   "metadata": {},
   "source": [
    "<font size=\"4\">KNN Hyperparameter Tuning</font> "
   ]
  },
  {
   "cell_type": "code",
   "execution_count": 17,
   "id": "9903ae82",
   "metadata": {},
   "outputs": [
    {
     "name": "stdout",
     "output_type": "stream",
     "text": [
      "The optimum hyperparameters for the KNN model is:  {'n_neighbors': 19, 'weights': 'distance', 'algorithm': 'brute', 'leaf_size': 29, 'p': 2}\n"
     ]
    }
   ],
   "source": [
    "# KNN Hyperparameters list\n",
    "weights = ['uniform', 'distance']\n",
    "algorithm = ['auto', 'ball_tree', 'kd_tree', 'brute']\n",
    "power = [1, 2]\n",
    "\n",
    "\n",
    "acc_score_knn = 0\n",
    "hyper_parameters_knn = {'n_neighbors': 0, 'weights': 0, 'algorithm': \"\", 'leaf_size': 0, 'p':0}\n",
    "\n",
    "for n in range(1,20):\n",
    "    for w in weights:\n",
    "        for a in algorithm:\n",
    "            for l in range(1,30):\n",
    "                for p in power:\n",
    "                    knn_model = KNeighborsClassifier(n_neighbors=n, weights=w, algorithm=a, leaf_size=l, p=p)\n",
    "                    knn_model = knn_model.fit(X_train, y_train)\n",
    "\n",
    "                    y_predict_knn = knn_model.predict(X_test)\n",
    "                    \n",
    "                    if accuracy_score(y_test, y_predict_knn) > acc_score_knn:\n",
    "                        acc_score_svm = accuracy_score(y_test, y_predict_svm)\n",
    "                        hyper_parameters_knn.update({'n_neighbors': n, 'weights': w, 'algorithm': a, 'leaf_size': l, 'p':p})\n",
    "\n",
    "print(\"The optimum hyperparameters for the KNN model is: \", hyper_parameters_knn)"
   ]
  },
  {
   "cell_type": "code",
   "execution_count": 18,
   "id": "a3af4d0c",
   "metadata": {},
   "outputs": [
    {
     "name": "stdout",
     "output_type": "stream",
     "text": [
      "F1 Score:  0.7083333333333334\n",
      "Accuracy of the model on test data :  0.631578947368421\n",
      "[ 8 30]\n",
      "              precision    recall  f1-score   support\n",
      "\n",
      "           0       0.88      0.35      0.50        20\n",
      "           1       0.57      0.94      0.71        18\n",
      "\n",
      "    accuracy                           0.63        38\n",
      "   macro avg       0.72      0.65      0.60        38\n",
      "weighted avg       0.73      0.63      0.60        38\n",
      "\n"
     ]
    },
    {
     "data": {
      "image/png": "[encoded data removed]",
      "text/plain": [
       "<Figure size 432x288 with 2 Axes>"
      ]
     },
     "metadata": {
      "needs_background": "light"
     },
     "output_type": "display_data"
    }
   ],
   "source": [
    "knn_model = KNeighborsClassifier(n_neighbors=19, weights='distance', algorithm='brute', leaf_size=29, p=2)\n",
    "knn_model.fit(X_train, y_train)\n",
    "\n",
    "y_predict_knn = knn_model.predict(X_test)\n",
    "eval_results(y_test, y_predict_knn, knn_model)"
   ]
  },
  {
   "cell_type": "markdown",
   "id": "217bdbae",
   "metadata": {},
   "source": [
    "The **KNN model** has a **accuracy** of **63%** on test data. However, the final predictons contains large number of false positives (For a large number of datapoints belonging to unhappy class (class 0), the model predicts that they belong to happy class (class 1)) indicating the model's bias towards class 1."
   ]
  },
  {
   "cell_type": "markdown",
   "id": "9dc51074",
   "metadata": {},
   "source": [
    "<font size=\"4\"> 5. Logistic Regression</font>"
   ]
  },
  {
   "cell_type": "code",
   "execution_count": 19,
   "id": "ee6634ed",
   "metadata": {},
   "outputs": [
    {
     "name": "stdout",
     "output_type": "stream",
     "text": [
      "F1 Score:  0.5365853658536586\n",
      "Accuracy of the model on test data :  0.5\n",
      "[15 23]\n",
      "              precision    recall  f1-score   support\n",
      "\n",
      "           0       0.53      0.40      0.46        20\n",
      "           1       0.48      0.61      0.54        18\n",
      "\n",
      "    accuracy                           0.50        38\n",
      "   macro avg       0.51      0.51      0.50        38\n",
      "weighted avg       0.51      0.50      0.49        38\n",
      "\n"
     ]
    },
    {
     "data": {
      "image/png": "[encoded data removed]",
      "text/plain": [
       "<Figure size 432x288 with 2 Axes>"
      ]
     },
     "metadata": {
      "needs_background": "light"
     },
     "output_type": "display_data"
    }
   ],
   "source": [
    "# logistic Regression\n",
    "log_reg = LogisticRegression()\n",
    "log_reg.fit(X_train, y_train)\n",
    "\n",
    "y_pred_lg = log_reg.predict(X_test)\n",
    "\n",
    "eval_results(y_test, y_pred_lg, log_reg)"
   ]
  },
  {
   "cell_type": "markdown",
   "id": "22c04c25",
   "metadata": {},
   "source": [
    "The **Logisitic Regression model** performs poorly with an **accuracy** of **50%**. The model is also biased towards predicting more examples belonging to class 1 compared to class 0."
   ]
  },
  {
   "cell_type": "markdown",
   "id": "7af7dae5",
   "metadata": {},
   "source": [
    "<font size=\"4\"><b>Feature Selection</b></font>"
   ]
  },
  {
   "cell_type": "code",
   "execution_count": 20,
   "id": "06255393",
   "metadata": {},
   "outputs": [
    {
     "name": "stdout",
     "output_type": "stream",
     "text": [
      "                                  Questions    Scores\n",
      "0           The order was delivered on time  1.449041\n",
      "1  Contents of the order were as I expected  0.036161\n",
      "2   Ordered everything they wanted to order  0.900104\n",
      "3         Good price was paid for the order  0.106194\n",
      "4                  Satisfied with the order  2.273286\n",
      "5                The app made ordering easy  0.541070\n"
     ]
    }
   ],
   "source": [
    "# Feature Selection\n",
    "# Select K best feature (Univariate Feature Selection) with chi squared error\n",
    "k_best = SelectKBest(score_func=chi2, k=5).fit(data, target)\n",
    "feature_score = pd.DataFrame({'Questions':list(feature_dict.values()),'Scores':k_best.scores_ })\n",
    "print(feature_score)                              "
   ]
  },
  {
   "cell_type": "code",
   "execution_count": 21,
   "id": "4d537b1d",
   "metadata": {},
   "outputs": [
    {
     "data": {
      "text/plain": [
       "'\\nmodel = RandomForestClassifier(random_state = 42)\\nrfe = RFE(model, n_features_to_select=3)\\nrfe = rfe.fit(full_data, df[\\'Y\\'])\\nrfe_mask = rfe.get_support()\\nrfe_features = [] \\nfor bol, feature in zip(rfe_mask, full_data.columns):\\n    if bol:\\n        rfe_features.append(feature)\\nprint(\"The best features after RFE are:\", rfe_features)\\n'"
      ]
     },
     "execution_count": 21,
     "metadata": {},
     "output_type": "execute_result"
    }
   ],
   "source": [
    "# Recursive Feature Elimination (RFE)\n",
    "\"\"\"\n",
    "model = RandomForestClassifier(random_state = 42)\n",
    "rfe = RFE(model, n_features_to_select=3)\n",
    "rfe = rfe.fit(full_data, df['Y'])\n",
    "rfe_mask = rfe.get_support()\n",
    "rfe_features = [] \n",
    "for bol, feature in zip(rfe_mask, full_data.columns):\n",
    "    if bol:\n",
    "        rfe_features.append(feature)\n",
    "print(\"The best features after RFE are:\", rfe_features)\n",
    "\"\"\""
   ]
  },
  {
   "cell_type": "code",
   "execution_count": 22,
   "id": "5c1b4dd4",
   "metadata": {},
   "outputs": [
    {
     "name": "stdout",
     "output_type": "stream",
     "text": [
      "Size of our training data:  (88, 3)\n",
      "Target values of training data:  (38, 3)\n",
      "Size of our testing data:  (88,)\n",
      "Target values of testing data:  (38,)\n",
      "\n",
      "\n",
      "The data contains 57 examples belonging to class 0 (unhappy) and 69 examples belonging to class 1 (happy).\n",
      "Trainig data contains 37 examples belonging to class 0 (unhappy) and 51 examples belonging to class 1 (happy).\n",
      "Testing data contains 20 examples belonging to class 0 (unhappy) and 18 examples belonging to class 1 (happy).\n"
     ]
    }
   ],
   "source": [
    "# From the feature selection step, we select the best features with high scores and train new models.\n",
    "\n",
    "data = df.drop(['Y', 'X2', 'X4', 'X6'], axis = 1)\n",
    "\n",
    "X_train, X_test, y_train, y_test = train_test_split(data, target, test_size=0.3, random_state=42)\n",
    "print(\"Size of our training data: \", X_train.shape)\n",
    "print(\"Target values of training data: \", X_test.shape)\n",
    "print(\"Size of our testing data: \", y_train.shape)\n",
    "print(\"Target values of testing data: \", y_test.shape)\n",
    "print(\"\\n\")\n",
    "print(\"The data contains {} examples belonging to class 0 (unhappy) and {} examples belonging to class 1 (happy).\"\n",
    "      .format(np.bincount(target)[0], np.bincount(target)[1]))\n",
    "print(\"Trainig data contains {} examples belonging to class 0 (unhappy) and {} examples belonging to class 1 (happy).\"\n",
    "      .format(np.bincount(y_train)[0], np.bincount(y_train)[1]))\n",
    "print(\"Testing data contains {} examples belonging to class 0 (unhappy) and {} examples belonging to class 1 (happy).\"\n",
    "      .format(np.bincount(y_test)[0], np.bincount(y_test)[1]))"
   ]
  },
  {
   "cell_type": "markdown",
   "id": "e9761ce7",
   "metadata": {},
   "source": [
    "Random Forest model was selected because its performance was better than the other other models that were tested."
   ]
  },
  {
   "cell_type": "code",
   "execution_count": 23,
   "id": "9396fe63",
   "metadata": {},
   "outputs": [
    {
     "name": "stdout",
     "output_type": "stream",
     "text": [
      "F1 Score:  0.7499999999999999\n",
      "Accuracy of the model on test data :  0.7368421052631579\n",
      "[16 22]\n",
      "              precision    recall  f1-score   support\n",
      "\n",
      "           0       0.81      0.65      0.72        20\n",
      "           1       0.68      0.83      0.75        18\n",
      "\n",
      "    accuracy                           0.74        38\n",
      "   macro avg       0.75      0.74      0.74        38\n",
      "weighted avg       0.75      0.74      0.74        38\n",
      "\n"
     ]
    },
    {
     "data": {
      "image/png": "[encoded data removed]",
      "text/plain": [
       "<Figure size 432x288 with 2 Axes>"
      ]
     },
     "metadata": {
      "needs_background": "light"
     },
     "output_type": "display_data"
    }
   ],
   "source": [
    "# Random forest classifier (ensemble learning)\n",
    "rfc = RandomForestClassifier(n_estimators=6, random_state=42)\n",
    "rfc.fit(X_train, y_train)\n",
    "\n",
    "y_predict_rfc = rfc.predict(X_test)\n",
    "\n",
    "eval_results(y_test, y_predict_rfc, rfc)"
   ]
  },
  {
   "cell_type": "markdown",
   "id": "d343081e",
   "metadata": {},
   "source": [
    "The model's accuracy increases to **73.6%** when we select the three best features (X1, X3, X5)."
   ]
  }
 ],
 "metadata": {
  "kernelspec": {
   "display_name": "Python 3 (ipykernel)",
   "language": "python",
   "name": "python3"
  },
  "language_info": {
   "codemirror_mode": {
    "name": "ipython",
    "version": 3
   },
   "file_extension": ".py",
   "mimetype": "text/x-python",
   "name": "python",
   "nbconvert_exporter": "python",
   "pygments_lexer": "ipython3",
   "version": "3.9.7"
  }
 },
 "nbformat": 4,
 "nbformat_minor": 5
}
