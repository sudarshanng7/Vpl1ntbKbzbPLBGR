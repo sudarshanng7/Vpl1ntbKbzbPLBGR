{
 "cells": [
  {
   "cell_type": "markdown",
   "id": "c17bb26e",
   "metadata": {},
   "source": [
    "# Happy Customers Project\n",
    "\n",
    "## Background:\n",
    "We are one of the fastest growing startups in the logistics and delivery domain. We work with several partners and make on-demand delivery to our customers. During the COVID-19 pandemic, we are facing several different challenges and everyday we are trying to address these challenges.\n",
    "\n",
    "We thrive on making our customers happy. As a growing startup, with a global expansion strategy we know that we need to make our customers happy and the only way to do that is to measure how happy each customer is. If we can predict what makes our customers happy or unhappy, we can then take necessary actions.\n",
    "\n",
    "Getting feedback from customers is not easy either, but we do our best to get constant feedback from our customers. This is a crucial function to improve our operations across all levels.\n",
    "\n",
    "We recently did a survey to a select customer cohort. You are presented with a subset of this data. We will be using the remaining data as a private test set.\n",
    "\n",
    "## Data Description:\n",
    "Y = target attribute (Y) with values indicating 0 (unhappy) and 1 (happy) customers <br>\n",
    "X1 = my order was delivered on time <br>\n",
    "X2 = contents of my order was as I expected <br>\n",
    "X3 = I ordered everything I wanted to order <br>\n",
    "X4 = I paid a good price for my order <br>\n",
    "X5 = I am satisfied with my courier <br>\n",
    "X6 = the app makes ordering easy for me <br>\n",
    "\n",
    "Attributes X1 to X6 indicate the responses for each question and have values from 1 to 5 where the smaller number indicates less and the higher number indicates more towards the answer.\n",
    "\n",
    "\n",
    "## Goal:\n",
    "Predict if a customer is happy or not based on the answers they give to questions asked."
   ]
  },
  {
   "cell_type": "code",
   "execution_count": 1,
   "id": "c124041f",
   "metadata": {},
   "outputs": [],
   "source": [
    "import pandas as pd\n",
    "import numpy as np\n",
    "\n",
    "# Libraries for data visualization\n",
    "import matplotlib.pyplot as plt\n",
    "import seaborn as sns\n",
    "\n",
    "from sklearn.model_selection import train_test_split\n",
    "\n",
    "# Classification algorithms\n",
    "from sklearn.linear_model import LogisticRegression\n",
    "from sklearn.tree import DecisionTreeClassifier\n",
    "from sklearn.ensemble import RandomForestClassifier\n",
    "\n",
    "# Model evaluation metrics\n",
    "from sklearn.metrics import accuracy_score, confusion_matrix, classification_report, ConfusionMatrixDisplay\n",
    "\n",
    "# Feature Selection\n",
    "from sklearn.feature_selection import SelectKBest, chi2, RFE"
   ]
  },
  {
   "cell_type": "code",
   "execution_count": 2,
   "id": "d7b33b86",
   "metadata": {},
   "outputs": [
    {
     "name": "stdout",
     "output_type": "stream",
     "text": [
      "(126, 7)\n"
     ]
    },
    {
     "data": {
      "text/html": [
       "<div>\n",
       "<style scoped>\n",
       "    .dataframe tbody tr th:only-of-type {\n",
       "        vertical-align: middle;\n",
       "    }\n",
       "\n",
       "    .dataframe tbody tr th {\n",
       "        vertical-align: top;\n",
       "    }\n",
       "\n",
       "    .dataframe thead th {\n",
       "        text-align: right;\n",
       "    }\n",
       "</style>\n",
       "<table border=\"1\" class=\"dataframe\">\n",
       "  <thead>\n",
       "    <tr style=\"text-align: right;\">\n",
       "      <th></th>\n",
       "      <th>Y</th>\n",
       "      <th>X1</th>\n",
       "      <th>X2</th>\n",
       "      <th>X3</th>\n",
       "      <th>X4</th>\n",
       "      <th>X5</th>\n",
       "      <th>X6</th>\n",
       "    </tr>\n",
       "  </thead>\n",
       "  <tbody>\n",
       "    <tr>\n",
       "      <th>0</th>\n",
       "      <td>0</td>\n",
       "      <td>3</td>\n",
       "      <td>3</td>\n",
       "      <td>3</td>\n",
       "      <td>4</td>\n",
       "      <td>2</td>\n",
       "      <td>4</td>\n",
       "    </tr>\n",
       "    <tr>\n",
       "      <th>1</th>\n",
       "      <td>0</td>\n",
       "      <td>3</td>\n",
       "      <td>2</td>\n",
       "      <td>3</td>\n",
       "      <td>5</td>\n",
       "      <td>4</td>\n",
       "      <td>3</td>\n",
       "    </tr>\n",
       "    <tr>\n",
       "      <th>2</th>\n",
       "      <td>1</td>\n",
       "      <td>5</td>\n",
       "      <td>3</td>\n",
       "      <td>3</td>\n",
       "      <td>3</td>\n",
       "      <td>3</td>\n",
       "      <td>5</td>\n",
       "    </tr>\n",
       "    <tr>\n",
       "      <th>3</th>\n",
       "      <td>0</td>\n",
       "      <td>5</td>\n",
       "      <td>4</td>\n",
       "      <td>3</td>\n",
       "      <td>3</td>\n",
       "      <td>3</td>\n",
       "      <td>5</td>\n",
       "    </tr>\n",
       "    <tr>\n",
       "      <th>4</th>\n",
       "      <td>0</td>\n",
       "      <td>5</td>\n",
       "      <td>4</td>\n",
       "      <td>3</td>\n",
       "      <td>3</td>\n",
       "      <td>3</td>\n",
       "      <td>5</td>\n",
       "    </tr>\n",
       "  </tbody>\n",
       "</table>\n",
       "</div>"
      ],
      "text/plain": [
       "   Y  X1  X2  X3  X4  X5  X6\n",
       "0  0   3   3   3   4   2   4\n",
       "1  0   3   2   3   5   4   3\n",
       "2  1   5   3   3   3   3   5\n",
       "3  0   5   4   3   3   3   5\n",
       "4  0   5   4   3   3   3   5"
      ]
     },
     "execution_count": 2,
     "metadata": {},
     "output_type": "execute_result"
    }
   ],
   "source": [
    "df = pd.read_csv(\"dataset.csv\", index_col=False)\n",
    "\n",
    "print(np.shape(df))\n",
    "df.head()"
   ]
  },
  {
   "cell_type": "code",
   "execution_count": 3,
   "id": "59c5b150",
   "metadata": {},
   "outputs": [
    {
     "name": "stdout",
     "output_type": "stream",
     "text": [
      "<class 'pandas.core.frame.DataFrame'>\n",
      "RangeIndex: 126 entries, 0 to 125\n",
      "Data columns (total 7 columns):\n",
      " #   Column  Non-Null Count  Dtype\n",
      "---  ------  --------------  -----\n",
      " 0   Y       126 non-null    int64\n",
      " 1   X1      126 non-null    int64\n",
      " 2   X2      126 non-null    int64\n",
      " 3   X3      126 non-null    int64\n",
      " 4   X4      126 non-null    int64\n",
      " 5   X5      126 non-null    int64\n",
      " 6   X6      126 non-null    int64\n",
      "dtypes: int64(7)\n",
      "memory usage: 7.0 KB\n"
     ]
    }
   ],
   "source": [
    "df.info()"
   ]
  },
  {
   "cell_type": "markdown",
   "id": "431e908c",
   "metadata": {},
   "source": [
    "The dataset contains 126 examples with no null values. All the features are integer datatype"
   ]
  },
  {
   "cell_type": "code",
   "execution_count": 4,
   "id": "10e8ca35",
   "metadata": {},
   "outputs": [
    {
     "data": {
      "text/html": [
       "<div>\n",
       "<style scoped>\n",
       "    .dataframe tbody tr th:only-of-type {\n",
       "        vertical-align: middle;\n",
       "    }\n",
       "\n",
       "    .dataframe tbody tr th {\n",
       "        vertical-align: top;\n",
       "    }\n",
       "\n",
       "    .dataframe thead th {\n",
       "        text-align: right;\n",
       "    }\n",
       "</style>\n",
       "<table border=\"1\" class=\"dataframe\">\n",
       "  <thead>\n",
       "    <tr style=\"text-align: right;\">\n",
       "      <th></th>\n",
       "      <th>count</th>\n",
       "      <th>mean</th>\n",
       "      <th>std</th>\n",
       "      <th>min</th>\n",
       "      <th>25%</th>\n",
       "      <th>50%</th>\n",
       "      <th>75%</th>\n",
       "      <th>max</th>\n",
       "    </tr>\n",
       "  </thead>\n",
       "  <tbody>\n",
       "    <tr>\n",
       "      <th>Y</th>\n",
       "      <td>126.0</td>\n",
       "      <td>0.547619</td>\n",
       "      <td>0.499714</td>\n",
       "      <td>0.0</td>\n",
       "      <td>0.0</td>\n",
       "      <td>1.0</td>\n",
       "      <td>1.0</td>\n",
       "      <td>1.0</td>\n",
       "    </tr>\n",
       "    <tr>\n",
       "      <th>X1</th>\n",
       "      <td>126.0</td>\n",
       "      <td>4.333333</td>\n",
       "      <td>0.800000</td>\n",
       "      <td>1.0</td>\n",
       "      <td>4.0</td>\n",
       "      <td>5.0</td>\n",
       "      <td>5.0</td>\n",
       "      <td>5.0</td>\n",
       "    </tr>\n",
       "    <tr>\n",
       "      <th>X2</th>\n",
       "      <td>126.0</td>\n",
       "      <td>2.531746</td>\n",
       "      <td>1.114892</td>\n",
       "      <td>1.0</td>\n",
       "      <td>2.0</td>\n",
       "      <td>3.0</td>\n",
       "      <td>3.0</td>\n",
       "      <td>5.0</td>\n",
       "    </tr>\n",
       "    <tr>\n",
       "      <th>X3</th>\n",
       "      <td>126.0</td>\n",
       "      <td>3.309524</td>\n",
       "      <td>1.023440</td>\n",
       "      <td>1.0</td>\n",
       "      <td>3.0</td>\n",
       "      <td>3.0</td>\n",
       "      <td>4.0</td>\n",
       "      <td>5.0</td>\n",
       "    </tr>\n",
       "    <tr>\n",
       "      <th>X4</th>\n",
       "      <td>126.0</td>\n",
       "      <td>3.746032</td>\n",
       "      <td>0.875776</td>\n",
       "      <td>1.0</td>\n",
       "      <td>3.0</td>\n",
       "      <td>4.0</td>\n",
       "      <td>4.0</td>\n",
       "      <td>5.0</td>\n",
       "    </tr>\n",
       "    <tr>\n",
       "      <th>X5</th>\n",
       "      <td>126.0</td>\n",
       "      <td>3.650794</td>\n",
       "      <td>1.147641</td>\n",
       "      <td>1.0</td>\n",
       "      <td>3.0</td>\n",
       "      <td>4.0</td>\n",
       "      <td>4.0</td>\n",
       "      <td>5.0</td>\n",
       "    </tr>\n",
       "    <tr>\n",
       "      <th>X6</th>\n",
       "      <td>126.0</td>\n",
       "      <td>4.253968</td>\n",
       "      <td>0.809311</td>\n",
       "      <td>1.0</td>\n",
       "      <td>4.0</td>\n",
       "      <td>4.0</td>\n",
       "      <td>5.0</td>\n",
       "      <td>5.0</td>\n",
       "    </tr>\n",
       "  </tbody>\n",
       "</table>\n",
       "</div>"
      ],
      "text/plain": [
       "    count      mean       std  min  25%  50%  75%  max\n",
       "Y   126.0  0.547619  0.499714  0.0  0.0  1.0  1.0  1.0\n",
       "X1  126.0  4.333333  0.800000  1.0  4.0  5.0  5.0  5.0\n",
       "X2  126.0  2.531746  1.114892  1.0  2.0  3.0  3.0  5.0\n",
       "X3  126.0  3.309524  1.023440  1.0  3.0  3.0  4.0  5.0\n",
       "X4  126.0  3.746032  0.875776  1.0  3.0  4.0  4.0  5.0\n",
       "X5  126.0  3.650794  1.147641  1.0  3.0  4.0  4.0  5.0\n",
       "X6  126.0  4.253968  0.809311  1.0  4.0  4.0  5.0  5.0"
      ]
     },
     "execution_count": 4,
     "metadata": {},
     "output_type": "execute_result"
    }
   ],
   "source": [
    "df.describe().T"
   ]
  },
  {
   "cell_type": "code",
   "execution_count": 5,
   "id": "2489dd9a",
   "metadata": {},
   "outputs": [
    {
     "data": {
      "text/plain": [
       "<AxesSubplot:>"
      ]
     },
     "execution_count": 5,
     "metadata": {},
     "output_type": "execute_result"
    },
    {
     "data": {
      "image/png": "[encoded data removed]",
      "text/plain": [
       "<Figure size 720x360 with 2 Axes>"
      ]
     },
     "metadata": {
      "needs_background": "light"
     },
     "output_type": "display_data"
    }
   ],
   "source": [
    "# Creating a correlation matrix to check if there are highly correlated features\n",
    "fig, ax = plt.subplots(figsize=(10, 5))\n",
    "correlation_matrix = df.corr().abs()\n",
    "sns.heatmap(correlation_matrix, annot=True, cmap=\"Blues\")"
   ]
  },
  {
   "cell_type": "code",
   "execution_count": 6,
   "id": "4d537b1d",
   "metadata": {},
   "outputs": [
    {
     "name": "stdout",
     "output_type": "stream",
     "text": [
      "The K best features are: ['X1', 'X3', 'X5']\n",
      "The best features after RFE are: ['X1', 'X2', 'X5']\n"
     ]
    }
   ],
   "source": [
    "#sns.pairplot(df)\n",
    "\n",
    "# Feature Selection\n",
    "full_data = df.drop(['Y'], axis = 1)\n",
    "\n",
    "# Select K best feature (Univariate Feature Selection) with chi squared error\n",
    "k_best = SelectKBest(score_func=chi2, k=3).fit(full_data, df['Y'])\n",
    "mask = k_best.get_support()\n",
    "kbest_features = [] \n",
    "for bol, feature in zip(mask, full_data.columns):\n",
    "    if bol:\n",
    "        kbest_features.append(feature)\n",
    "print(\"The K best features are:\", kbest_features)\n",
    "\n",
    "# Recursive Feature Elimination (RFE)\n",
    "model = RandomForestClassifier(random_state = 42)\n",
    "rfe = RFE(model, n_features_to_select=3)\n",
    "rfe = rfe.fit(full_data, df['Y'])\n",
    "rfe_mask = rfe.get_support()\n",
    "rfe_features = [] \n",
    "for bol, feature in zip(rfe_mask, full_data.columns):\n",
    "    if bol:\n",
    "        rfe_features.append(feature)\n",
    "print(\"The best features after RFE are:\", rfe_features)\n"
   ]
  },
  {
   "cell_type": "code",
   "execution_count": 7,
   "id": "d5a281ff",
   "metadata": {},
   "outputs": [
    {
     "name": "stdout",
     "output_type": "stream",
     "text": [
      "Size of our training data:  (88, 3)\n",
      "Target values of training data:  (38, 3)\n",
      "Size of our testing data:  (88,)\n",
      "Target values of testing data:  (38,)\n",
      "\n",
      "\n",
      "The data contains 57 examples belonging to class 0 (unhappy) and 69 examples belonging to class 1 (happy).\n",
      "Trainig data contains 37 examples belonging to class 0 (unhappy) and 51 examples belonging to class 1 (happy).\n",
      "Testing data contains 20 examples belonging to class 0 (unhappy) and 18 examples belonging to class 1 (happy).\n"
     ]
    }
   ],
   "source": [
    "target = df['Y']\n",
    "data = df.drop(['Y', 'X2', 'X4', 'X6'], axis = 1)\n",
    "\n",
    "X_train, X_test, y_train, y_test = train_test_split(data, target, test_size=0.3, random_state=42)\n",
    "print(\"Size of our training data: \", X_train.shape)\n",
    "print(\"Target values of training data: \", X_test.shape)\n",
    "print(\"Size of our testing data: \", y_train.shape)\n",
    "print(\"Target values of testing data: \", y_test.shape)\n",
    "print(\"\\n\")\n",
    "print(\"The data contains {} examples belonging to class 0 (unhappy) and {} examples belonging to class 1 (happy).\"\n",
    "      .format(np.bincount(target)[0], np.bincount(target)[1]))\n",
    "print(\"Trainig data contains {} examples belonging to class 0 (unhappy) and {} examples belonging to class 1 (happy).\"\n",
    "      .format(np.bincount(y_train)[0], np.bincount(y_train)[1]))\n",
    "print(\"Testing data contains {} examples belonging to class 0 (unhappy) and {} examples belonging to class 1 (happy).\"\n",
    "      .format(np.bincount(y_test)[0], np.bincount(y_test)[1]))"
   ]
  },
  {
   "cell_type": "code",
   "execution_count": 8,
   "id": "9ab01845",
   "metadata": {},
   "outputs": [],
   "source": [
    "def conf_matrix(test, predictions, model, X_train, y_train):\n",
    "    print(\"Training Score: \", model.score(X_train, y_train))\n",
    "    print(\"Accuracy of our model on test data is : \", accuracy_score(test, predictions))\n",
    "    print(np.bincount(predictions))\n",
    "    cm = confusion_matrix(test, predictions, labels=model.classes_)\n",
    "    disp = ConfusionMatrixDisplay(confusion_matrix=cm, display_labels=model.classes_)\n",
    "    disp.plot()\n",
    "    plt.show()\n",
    "    print(classification_report(test, predictions))"
   ]
  },
  {
   "cell_type": "code",
   "execution_count": 9,
   "id": "5504fa1f",
   "metadata": {},
   "outputs": [
    {
     "name": "stdout",
     "output_type": "stream",
     "text": [
      "Training Score:  0.7613636363636364\n",
      "Accuracy of our model on test data is :  0.7368421052631579\n",
      "[16 22]\n"
     ]
    },
    {
     "data": {
      "image/png": "[encoded data removed]",
      "text/plain": [
       "<Figure size 432x288 with 2 Axes>"
      ]
     },
     "metadata": {
      "needs_background": "light"
     },
     "output_type": "display_data"
    },
    {
     "name": "stdout",
     "output_type": "stream",
     "text": [
      "              precision    recall  f1-score   support\n",
      "\n",
      "           0       0.81      0.65      0.72        20\n",
      "           1       0.68      0.83      0.75        18\n",
      "\n",
      "    accuracy                           0.74        38\n",
      "   macro avg       0.75      0.74      0.74        38\n",
      "weighted avg       0.75      0.74      0.74        38\n",
      "\n"
     ]
    }
   ],
   "source": [
    "# Random forest classifier (ensemble learning)\n",
    "rfc = RandomForestClassifier(n_estimators=6, random_state=42)\n",
    "rfc.fit(X_train, y_train)\n",
    "y_predict_rfc = rfc.predict(X_test)\n",
    "conf_matrix(y_test, y_predict_rfc, rfc, X_train, y_train)\n",
    "\n",
    "# Accuracy : 73.6%"
   ]
  },
  {
   "cell_type": "code",
   "execution_count": 10,
   "id": "3d8d8bef",
   "metadata": {},
   "outputs": [
    {
     "name": "stdout",
     "output_type": "stream",
     "text": [
      "Training Score:  0.7727272727272727\n",
      "Accuracy of our model on test data is :  0.7105263157894737\n",
      "[15 23]\n"
     ]
    },
    {
     "data": {
      "image/png": "[encoded data removed]",
      "text/plain": [
       "<Figure size 432x288 with 2 Axes>"
      ]
     },
     "metadata": {
      "needs_background": "light"
     },
     "output_type": "display_data"
    },
    {
     "name": "stdout",
     "output_type": "stream",
     "text": [
      "              precision    recall  f1-score   support\n",
      "\n",
      "           0       0.80      0.60      0.69        20\n",
      "           1       0.65      0.83      0.73        18\n",
      "\n",
      "    accuracy                           0.71        38\n",
      "   macro avg       0.73      0.72      0.71        38\n",
      "weighted avg       0.73      0.71      0.71        38\n",
      "\n"
     ]
    }
   ],
   "source": [
    "# Decision Trees: They are sensitive to data\n",
    "dec_tree = DecisionTreeClassifier(criterion='gini', max_depth=8, random_state=42)\n",
    "dec_tree.fit(X_train, y_train)\n",
    "y_pred_dec = dec_tree.predict(X_test)\n",
    "conf_matrix(y_test, y_pred_dec, dec_tree, X_train, y_train)"
   ]
  },
  {
   "cell_type": "code",
   "execution_count": 11,
   "id": "a4452461",
   "metadata": {},
   "outputs": [
    {
     "name": "stdout",
     "output_type": "stream",
     "text": [
      "Training Score:  0.6931818181818182\n",
      "Accuracy of our model on test data is :  0.5263157894736842\n",
      "[14 24]\n"
     ]
    },
    {
     "data": {
      "image/png": "[encoded data removed]",
      "text/plain": [
       "<Figure size 432x288 with 2 Axes>"
      ]
     },
     "metadata": {
      "needs_background": "light"
     },
     "output_type": "display_data"
    },
    {
     "name": "stdout",
     "output_type": "stream",
     "text": [
      "              precision    recall  f1-score   support\n",
      "\n",
      "           0       0.57      0.40      0.47        20\n",
      "           1       0.50      0.67      0.57        18\n",
      "\n",
      "    accuracy                           0.53        38\n",
      "   macro avg       0.54      0.53      0.52        38\n",
      "weighted avg       0.54      0.53      0.52        38\n",
      "\n"
     ]
    }
   ],
   "source": [
    "# logistic Regression\n",
    "log_reg = LogisticRegression()\n",
    "log_reg.fit(X_train, y_train)\n",
    "y_pred_lg = log_reg.predict(X_test)\n",
    "conf_matrix(y_test, y_pred_lg, log_reg, X_train, y_train)"
   ]
  },
  {
   "cell_type": "code",
   "execution_count": null,
   "id": "849097a9",
   "metadata": {},
   "outputs": [],
   "source": []
  }
 ],
 "metadata": {
  "kernelspec": {
   "display_name": "Python 3 (ipykernel)",
   "language": "python",
   "name": "python3"
  },
  "language_info": {
   "codemirror_mode": {
    "name": "ipython",
    "version": 3
   },
   "file_extension": ".py",
   "mimetype": "text/x-python",
   "name": "python",
   "nbconvert_exporter": "python",
   "pygments_lexer": "ipython3",
   "version": "3.9.7"
  }
 },
 "nbformat": 4,
 "nbformat_minor": 5
}
